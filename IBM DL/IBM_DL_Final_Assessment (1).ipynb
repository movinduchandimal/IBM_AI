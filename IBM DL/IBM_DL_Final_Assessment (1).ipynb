{
  "nbformat": 4,
  "nbformat_minor": 0,
  "metadata": {
    "colab": {
      "provenance": []
    },
    "kernelspec": {
      "name": "python3",
      "display_name": "Python 3"
    },
    "language_info": {
      "name": "python"
    }
  },
  "cells": [
    {
      "cell_type": "markdown",
      "source": [
        "Import Library"
      ],
      "metadata": {
        "id": "RniHfRwHzfSP"
      }
    },
    {
      "cell_type": "code",
      "source": [
        "import pandas as pd\n",
        "import numpy as np"
      ],
      "metadata": {
        "id": "mX0cMVb_4Pwg"
      },
      "execution_count": 1,
      "outputs": []
    },
    {
      "cell_type": "code",
      "source": [
        "concrete_data = pd.read_csv('concrete_data.csv')\n",
        "concrete_data.head()"
      ],
      "metadata": {
        "colab": {
          "base_uri": "https://localhost:8080/",
          "height": 305
        },
        "id": "9e7_YYXg4REq",
        "outputId": "56b5cd27-ef6b-4e5f-e54a-24983c2fd040"
      },
      "execution_count": 2,
      "outputs": [
        {
          "output_type": "execute_result",
          "data": {
            "text/plain": [
              "   Cement  Blast Furnace Slag  Fly Ash  Water  Superplasticizer  \\\n",
              "0   540.0                 0.0      0.0  162.0               2.5   \n",
              "1   540.0                 0.0      0.0  162.0               2.5   \n",
              "2   332.5               142.5      0.0  228.0               0.0   \n",
              "3   332.5               142.5      0.0  228.0               0.0   \n",
              "4   198.6               132.4      0.0  192.0               0.0   \n",
              "\n",
              "   Coarse Aggregate  Fine Aggregate  Age  Strength  \n",
              "0            1040.0           676.0   28     79.99  \n",
              "1            1055.0           676.0   28     61.89  \n",
              "2             932.0           594.0  270     40.27  \n",
              "3             932.0           594.0  365     41.05  \n",
              "4             978.4           825.5  360     44.30  "
            ],
            "text/html": [
              "\n",
              "  <div id=\"df-3d947b77-cd69-4688-9260-7eecc4a767f6\">\n",
              "    <div class=\"colab-df-container\">\n",
              "      <div>\n",
              "<style scoped>\n",
              "    .dataframe tbody tr th:only-of-type {\n",
              "        vertical-align: middle;\n",
              "    }\n",
              "\n",
              "    .dataframe tbody tr th {\n",
              "        vertical-align: top;\n",
              "    }\n",
              "\n",
              "    .dataframe thead th {\n",
              "        text-align: right;\n",
              "    }\n",
              "</style>\n",
              "<table border=\"1\" class=\"dataframe\">\n",
              "  <thead>\n",
              "    <tr style=\"text-align: right;\">\n",
              "      <th></th>\n",
              "      <th>Cement</th>\n",
              "      <th>Blast Furnace Slag</th>\n",
              "      <th>Fly Ash</th>\n",
              "      <th>Water</th>\n",
              "      <th>Superplasticizer</th>\n",
              "      <th>Coarse Aggregate</th>\n",
              "      <th>Fine Aggregate</th>\n",
              "      <th>Age</th>\n",
              "      <th>Strength</th>\n",
              "    </tr>\n",
              "  </thead>\n",
              "  <tbody>\n",
              "    <tr>\n",
              "      <th>0</th>\n",
              "      <td>540.0</td>\n",
              "      <td>0.0</td>\n",
              "      <td>0.0</td>\n",
              "      <td>162.0</td>\n",
              "      <td>2.5</td>\n",
              "      <td>1040.0</td>\n",
              "      <td>676.0</td>\n",
              "      <td>28</td>\n",
              "      <td>79.99</td>\n",
              "    </tr>\n",
              "    <tr>\n",
              "      <th>1</th>\n",
              "      <td>540.0</td>\n",
              "      <td>0.0</td>\n",
              "      <td>0.0</td>\n",
              "      <td>162.0</td>\n",
              "      <td>2.5</td>\n",
              "      <td>1055.0</td>\n",
              "      <td>676.0</td>\n",
              "      <td>28</td>\n",
              "      <td>61.89</td>\n",
              "    </tr>\n",
              "    <tr>\n",
              "      <th>2</th>\n",
              "      <td>332.5</td>\n",
              "      <td>142.5</td>\n",
              "      <td>0.0</td>\n",
              "      <td>228.0</td>\n",
              "      <td>0.0</td>\n",
              "      <td>932.0</td>\n",
              "      <td>594.0</td>\n",
              "      <td>270</td>\n",
              "      <td>40.27</td>\n",
              "    </tr>\n",
              "    <tr>\n",
              "      <th>3</th>\n",
              "      <td>332.5</td>\n",
              "      <td>142.5</td>\n",
              "      <td>0.0</td>\n",
              "      <td>228.0</td>\n",
              "      <td>0.0</td>\n",
              "      <td>932.0</td>\n",
              "      <td>594.0</td>\n",
              "      <td>365</td>\n",
              "      <td>41.05</td>\n",
              "    </tr>\n",
              "    <tr>\n",
              "      <th>4</th>\n",
              "      <td>198.6</td>\n",
              "      <td>132.4</td>\n",
              "      <td>0.0</td>\n",
              "      <td>192.0</td>\n",
              "      <td>0.0</td>\n",
              "      <td>978.4</td>\n",
              "      <td>825.5</td>\n",
              "      <td>360</td>\n",
              "      <td>44.30</td>\n",
              "    </tr>\n",
              "  </tbody>\n",
              "</table>\n",
              "</div>\n",
              "      <button class=\"colab-df-convert\" onclick=\"convertToInteractive('df-3d947b77-cd69-4688-9260-7eecc4a767f6')\"\n",
              "              title=\"Convert this dataframe to an interactive table.\"\n",
              "              style=\"display:none;\">\n",
              "        \n",
              "  <svg xmlns=\"http://www.w3.org/2000/svg\" height=\"24px\"viewBox=\"0 0 24 24\"\n",
              "       width=\"24px\">\n",
              "    <path d=\"M0 0h24v24H0V0z\" fill=\"none\"/>\n",
              "    <path d=\"M18.56 5.44l.94 2.06.94-2.06 2.06-.94-2.06-.94-.94-2.06-.94 2.06-2.06.94zm-11 1L8.5 8.5l.94-2.06 2.06-.94-2.06-.94L8.5 2.5l-.94 2.06-2.06.94zm10 10l.94 2.06.94-2.06 2.06-.94-2.06-.94-.94-2.06-.94 2.06-2.06.94z\"/><path d=\"M17.41 7.96l-1.37-1.37c-.4-.4-.92-.59-1.43-.59-.52 0-1.04.2-1.43.59L10.3 9.45l-7.72 7.72c-.78.78-.78 2.05 0 2.83L4 21.41c.39.39.9.59 1.41.59.51 0 1.02-.2 1.41-.59l7.78-7.78 2.81-2.81c.8-.78.8-2.07 0-2.86zM5.41 20L4 18.59l7.72-7.72 1.47 1.35L5.41 20z\"/>\n",
              "  </svg>\n",
              "      </button>\n",
              "      \n",
              "  <style>\n",
              "    .colab-df-container {\n",
              "      display:flex;\n",
              "      flex-wrap:wrap;\n",
              "      gap: 12px;\n",
              "    }\n",
              "\n",
              "    .colab-df-convert {\n",
              "      background-color: #E8F0FE;\n",
              "      border: none;\n",
              "      border-radius: 50%;\n",
              "      cursor: pointer;\n",
              "      display: none;\n",
              "      fill: #1967D2;\n",
              "      height: 32px;\n",
              "      padding: 0 0 0 0;\n",
              "      width: 32px;\n",
              "    }\n",
              "\n",
              "    .colab-df-convert:hover {\n",
              "      background-color: #E2EBFA;\n",
              "      box-shadow: 0px 1px 2px rgba(60, 64, 67, 0.3), 0px 1px 3px 1px rgba(60, 64, 67, 0.15);\n",
              "      fill: #174EA6;\n",
              "    }\n",
              "\n",
              "    [theme=dark] .colab-df-convert {\n",
              "      background-color: #3B4455;\n",
              "      fill: #D2E3FC;\n",
              "    }\n",
              "\n",
              "    [theme=dark] .colab-df-convert:hover {\n",
              "      background-color: #434B5C;\n",
              "      box-shadow: 0px 1px 3px 1px rgba(0, 0, 0, 0.15);\n",
              "      filter: drop-shadow(0px 1px 2px rgba(0, 0, 0, 0.3));\n",
              "      fill: #FFFFFF;\n",
              "    }\n",
              "  </style>\n",
              "\n",
              "      <script>\n",
              "        const buttonEl =\n",
              "          document.querySelector('#df-3d947b77-cd69-4688-9260-7eecc4a767f6 button.colab-df-convert');\n",
              "        buttonEl.style.display =\n",
              "          google.colab.kernel.accessAllowed ? 'block' : 'none';\n",
              "\n",
              "        async function convertToInteractive(key) {\n",
              "          const element = document.querySelector('#df-3d947b77-cd69-4688-9260-7eecc4a767f6');\n",
              "          const dataTable =\n",
              "            await google.colab.kernel.invokeFunction('convertToInteractive',\n",
              "                                                     [key], {});\n",
              "          if (!dataTable) return;\n",
              "\n",
              "          const docLinkHtml = 'Like what you see? Visit the ' +\n",
              "            '<a target=\"_blank\" href=https://colab.research.google.com/notebooks/data_table.ipynb>data table notebook</a>'\n",
              "            + ' to learn more about interactive tables.';\n",
              "          element.innerHTML = '';\n",
              "          dataTable['output_type'] = 'display_data';\n",
              "          await google.colab.output.renderOutput(dataTable, element);\n",
              "          const docLink = document.createElement('div');\n",
              "          docLink.innerHTML = docLinkHtml;\n",
              "          element.appendChild(docLink);\n",
              "        }\n",
              "      </script>\n",
              "    </div>\n",
              "  </div>\n",
              "  "
            ]
          },
          "metadata": {},
          "execution_count": 2
        }
      ]
    },
    {
      "cell_type": "code",
      "source": [
        "concrete_data.shape\n",
        "concrete_data.describe()\n",
        "concrete_data.isnull().sum()"
      ],
      "metadata": {
        "colab": {
          "base_uri": "https://localhost:8080/"
        },
        "id": "ZnTRo3GB4VRQ",
        "outputId": "96dfe373-51be-4657-9d9f-fb545c6eed14"
      },
      "execution_count": 3,
      "outputs": [
        {
          "output_type": "execute_result",
          "data": {
            "text/plain": [
              "Cement                0\n",
              "Blast Furnace Slag    0\n",
              "Fly Ash               0\n",
              "Water                 0\n",
              "Superplasticizer      0\n",
              "Coarse Aggregate      0\n",
              "Fine Aggregate        0\n",
              "Age                   0\n",
              "Strength              0\n",
              "dtype: int64"
            ]
          },
          "metadata": {},
          "execution_count": 3
        }
      ]
    },
    {
      "cell_type": "code",
      "source": [
        "concrete_data_columns = concrete_data.columns\n",
        "predictors = concrete_data[concrete_data_columns[concrete_data_columns != 'Strength']] # all columns except Strength\n",
        "target = concrete_data['Strength'] # Strength column"
      ],
      "metadata": {
        "id": "24qsCb374XJQ"
      },
      "execution_count": 4,
      "outputs": []
    },
    {
      "cell_type": "code",
      "source": [
        "predictors = (predictors - predictors.mean()) / predictors.std()"
      ],
      "metadata": {
        "id": "CRD_c-f06KUs"
      },
      "execution_count": 5,
      "outputs": []
    },
    {
      "cell_type": "code",
      "source": [
        "predictors.head()\n",
        "target.head()"
      ],
      "metadata": {
        "colab": {
          "base_uri": "https://localhost:8080/"
        },
        "id": "eTh3mzV84Zsz",
        "outputId": "bdffbb72-935a-4745-c195-a7472495d99c"
      },
      "execution_count": 6,
      "outputs": [
        {
          "output_type": "execute_result",
          "data": {
            "text/plain": [
              "0    79.99\n",
              "1    61.89\n",
              "2    40.27\n",
              "3    41.05\n",
              "4    44.30\n",
              "Name: Strength, dtype: float64"
            ]
          },
          "metadata": {},
          "execution_count": 6
        }
      ]
    },
    {
      "cell_type": "code",
      "source": [
        "n_cols = predictors.shape[1] # number of predictors\n",
        "n_cols"
      ],
      "metadata": {
        "colab": {
          "base_uri": "https://localhost:8080/"
        },
        "id": "swLd2rt84cvf",
        "outputId": "a6a689a7-4ce3-4d10-c10b-062cedc697fc"
      },
      "execution_count": 7,
      "outputs": [
        {
          "output_type": "execute_result",
          "data": {
            "text/plain": [
              "8"
            ]
          },
          "metadata": {},
          "execution_count": 7
        }
      ]
    },
    {
      "cell_type": "code",
      "source": [
        "import keras"
      ],
      "metadata": {
        "id": "c5rS8lJh4fub"
      },
      "execution_count": 8,
      "outputs": []
    },
    {
      "cell_type": "code",
      "source": [
        "from keras.models import Sequential\n",
        "from keras.layers import Dense"
      ],
      "metadata": {
        "id": "iKISujkq4h3K"
      },
      "execution_count": 9,
      "outputs": []
    },
    {
      "cell_type": "code",
      "source": [
        "# define regression model\n",
        "def regression_model():\n",
        "    # create model\n",
        "    model = Sequential()\n",
        "    model.add(Dense(10, activation='relu', input_shape=(n_cols,)))\n",
        "    model.add(Dense(1))\n",
        "    \n",
        "    # compile model\n",
        "    model.compile(optimizer='adam', loss='mean_squared_error')\n",
        "    return model"
      ],
      "metadata": {
        "id": "4bCq6ANi4rFb"
      },
      "execution_count": 10,
      "outputs": []
    },
    {
      "cell_type": "code",
      "source": [
        "from sklearn.model_selection import train_test_split\n",
        "X_train, X_test, y_train, y_test = train_test_split(predictors, target, test_size=0.3, random_state=42)"
      ],
      "metadata": {
        "id": "Un-NBjJ94tAq"
      },
      "execution_count": 11,
      "outputs": []
    },
    {
      "cell_type": "code",
      "source": [
        "# build the model\n",
        "model = regression_model()"
      ],
      "metadata": {
        "id": "SVtnPjwb4wn9"
      },
      "execution_count": 12,
      "outputs": []
    },
    {
      "cell_type": "code",
      "source": [
        "# fit the model\n",
        "epochs = 50\n",
        "model.fit(X_train, y_train, epochs=epochs, verbose=1)"
      ],
      "metadata": {
        "colab": {
          "base_uri": "https://localhost:8080/"
        },
        "id": "did2r_I740bR",
        "outputId": "c9d55f65-2fde-49e6-99b5-e131eeb5bbcc"
      },
      "execution_count": 13,
      "outputs": [
        {
          "output_type": "stream",
          "name": "stdout",
          "text": [
            "Epoch 1/50\n",
            "23/23 [==============================] - 0s 2ms/step - loss: 1546.4421\n",
            "Epoch 2/50\n",
            "23/23 [==============================] - 0s 1ms/step - loss: 1530.4326\n",
            "Epoch 3/50\n",
            "23/23 [==============================] - 0s 1ms/step - loss: 1514.3771\n",
            "Epoch 4/50\n",
            "23/23 [==============================] - 0s 1ms/step - loss: 1497.8251\n",
            "Epoch 5/50\n",
            "23/23 [==============================] - 0s 1ms/step - loss: 1480.7637\n",
            "Epoch 6/50\n",
            "23/23 [==============================] - 0s 1ms/step - loss: 1463.4213\n",
            "Epoch 7/50\n",
            "23/23 [==============================] - 0s 1ms/step - loss: 1444.9469\n",
            "Epoch 8/50\n",
            "23/23 [==============================] - 0s 2ms/step - loss: 1426.0508\n",
            "Epoch 9/50\n",
            "23/23 [==============================] - 0s 1ms/step - loss: 1405.9215\n",
            "Epoch 10/50\n",
            "23/23 [==============================] - 0s 2ms/step - loss: 1385.2576\n",
            "Epoch 11/50\n",
            "23/23 [==============================] - 0s 2ms/step - loss: 1362.9622\n",
            "Epoch 12/50\n",
            "23/23 [==============================] - 0s 1ms/step - loss: 1339.6135\n",
            "Epoch 13/50\n",
            "23/23 [==============================] - 0s 1ms/step - loss: 1314.6262\n",
            "Epoch 14/50\n",
            "23/23 [==============================] - 0s 2ms/step - loss: 1288.6316\n",
            "Epoch 15/50\n",
            "23/23 [==============================] - 0s 1ms/step - loss: 1260.6760\n",
            "Epoch 16/50\n",
            "23/23 [==============================] - 0s 1ms/step - loss: 1231.9386\n",
            "Epoch 17/50\n",
            "23/23 [==============================] - 0s 1ms/step - loss: 1201.6384\n",
            "Epoch 18/50\n",
            "23/23 [==============================] - 0s 1ms/step - loss: 1170.8092\n",
            "Epoch 19/50\n",
            "23/23 [==============================] - 0s 1ms/step - loss: 1139.3031\n",
            "Epoch 20/50\n",
            "23/23 [==============================] - 0s 1ms/step - loss: 1107.5776\n",
            "Epoch 21/50\n",
            "23/23 [==============================] - 0s 1ms/step - loss: 1075.1144\n",
            "Epoch 22/50\n",
            "23/23 [==============================] - 0s 1ms/step - loss: 1042.6390\n",
            "Epoch 23/50\n",
            "23/23 [==============================] - 0s 1ms/step - loss: 1009.8851\n",
            "Epoch 24/50\n",
            "23/23 [==============================] - 0s 1ms/step - loss: 977.0751\n",
            "Epoch 25/50\n",
            "23/23 [==============================] - 0s 2ms/step - loss: 944.2739\n",
            "Epoch 26/50\n",
            "23/23 [==============================] - 0s 4ms/step - loss: 911.8222\n",
            "Epoch 27/50\n",
            "23/23 [==============================] - 0s 2ms/step - loss: 879.5493\n",
            "Epoch 28/50\n",
            "23/23 [==============================] - 0s 3ms/step - loss: 848.7764\n",
            "Epoch 29/50\n",
            "23/23 [==============================] - 0s 2ms/step - loss: 816.8995\n",
            "Epoch 30/50\n",
            "23/23 [==============================] - 0s 2ms/step - loss: 786.8066\n",
            "Epoch 31/50\n",
            "23/23 [==============================] - 0s 2ms/step - loss: 757.0228\n",
            "Epoch 32/50\n",
            "23/23 [==============================] - 0s 2ms/step - loss: 727.9509\n",
            "Epoch 33/50\n",
            "23/23 [==============================] - 0s 5ms/step - loss: 699.7889\n",
            "Epoch 34/50\n",
            "23/23 [==============================] - 0s 2ms/step - loss: 672.6459\n",
            "Epoch 35/50\n",
            "23/23 [==============================] - 0s 2ms/step - loss: 646.1899\n",
            "Epoch 36/50\n",
            "23/23 [==============================] - 0s 3ms/step - loss: 620.3779\n",
            "Epoch 37/50\n",
            "23/23 [==============================] - 0s 3ms/step - loss: 595.7399\n",
            "Epoch 38/50\n",
            "23/23 [==============================] - 0s 2ms/step - loss: 572.0505\n",
            "Epoch 39/50\n",
            "23/23 [==============================] - 0s 2ms/step - loss: 549.7241\n",
            "Epoch 40/50\n",
            "23/23 [==============================] - 0s 3ms/step - loss: 527.6243\n",
            "Epoch 41/50\n",
            "23/23 [==============================] - 0s 4ms/step - loss: 507.2081\n",
            "Epoch 42/50\n",
            "23/23 [==============================] - 0s 3ms/step - loss: 487.2036\n",
            "Epoch 43/50\n",
            "23/23 [==============================] - 0s 3ms/step - loss: 468.2281\n",
            "Epoch 44/50\n",
            "23/23 [==============================] - 0s 3ms/step - loss: 450.1856\n",
            "Epoch 45/50\n",
            "23/23 [==============================] - 0s 2ms/step - loss: 433.1458\n",
            "Epoch 46/50\n",
            "23/23 [==============================] - 0s 3ms/step - loss: 416.9106\n",
            "Epoch 47/50\n",
            "23/23 [==============================] - 0s 3ms/step - loss: 401.5921\n",
            "Epoch 48/50\n",
            "23/23 [==============================] - 0s 3ms/step - loss: 386.9109\n",
            "Epoch 49/50\n",
            "23/23 [==============================] - 0s 3ms/step - loss: 373.3525\n",
            "Epoch 50/50\n",
            "23/23 [==============================] - 0s 4ms/step - loss: 360.1542\n"
          ]
        },
        {
          "output_type": "execute_result",
          "data": {
            "text/plain": [
              "<keras.callbacks.History at 0x7fc48d322820>"
            ]
          },
          "metadata": {},
          "execution_count": 13
        }
      ]
    },
    {
      "cell_type": "code",
      "source": [
        "loss_val = model.evaluate(X_test, y_test)\n",
        "y_pred = model.predict(X_test)\n",
        "loss_val"
      ],
      "metadata": {
        "colab": {
          "base_uri": "https://localhost:8080/"
        },
        "id": "8_rADs3L42Nq",
        "outputId": "c3d8f1f7-644d-4d00-eb24-3dba27b96811"
      },
      "execution_count": 14,
      "outputs": [
        {
          "output_type": "stream",
          "name": "stdout",
          "text": [
            "10/10 [==============================] - 0s 3ms/step - loss: 349.7472\n",
            "10/10 [==============================] - 0s 2ms/step\n"
          ]
        },
        {
          "output_type": "execute_result",
          "data": {
            "text/plain": [
              "349.7471618652344"
            ]
          },
          "metadata": {},
          "execution_count": 14
        }
      ]
    },
    {
      "cell_type": "code",
      "source": [
        "from sklearn.metrics import mean_squared_error"
      ],
      "metadata": {
        "id": "VdrCQbPW44v4"
      },
      "execution_count": 15,
      "outputs": []
    },
    {
      "cell_type": "code",
      "source": [
        "mean_square_error = mean_squared_error(y_test, y_pred)\n",
        "mean = np.mean(mean_square_error)\n",
        "standard_deviation = np.std(mean_square_error)\n",
        "print(mean, standard_deviation)"
      ],
      "metadata": {
        "colab": {
          "base_uri": "https://localhost:8080/"
        },
        "id": "utzkEXHd4-Cc",
        "outputId": "5d5b21e4-d54c-4484-f261-adf92278222b"
      },
      "execution_count": 16,
      "outputs": [
        {
          "output_type": "stream",
          "name": "stdout",
          "text": [
            "349.74713685571527 0.0\n"
          ]
        }
      ]
    },
    {
      "cell_type": "code",
      "source": [],
      "metadata": {
        "id": "mPSlbSQe5EQ4"
      },
      "execution_count": 16,
      "outputs": []
    }
  ]
}