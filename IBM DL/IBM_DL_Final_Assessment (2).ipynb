{
  "nbformat": 4,
  "nbformat_minor": 0,
  "metadata": {
    "colab": {
      "provenance": []
    },
    "kernelspec": {
      "name": "python3",
      "display_name": "Python 3"
    },
    "language_info": {
      "name": "python"
    }
  },
  "cells": [
    {
      "cell_type": "markdown",
      "source": [
        "Import Library"
      ],
      "metadata": {
        "id": "RniHfRwHzfSP"
      }
    },
    {
      "cell_type": "code",
      "source": [
        "import pandas as pd\n",
        "import numpy as np"
      ],
      "metadata": {
        "id": "mX0cMVb_4Pwg"
      },
      "execution_count": 1,
      "outputs": []
    },
    {
      "cell_type": "code",
      "source": [
        "concrete_data = pd.read_csv('concrete_data.csv')\n",
        "concrete_data.head()"
      ],
      "metadata": {
        "colab": {
          "base_uri": "https://localhost:8080/",
          "height": 305
        },
        "id": "9e7_YYXg4REq",
        "outputId": "c05971d2-8e02-4f6c-f0bf-76fecbb654b7"
      },
      "execution_count": 2,
      "outputs": [
        {
          "output_type": "execute_result",
          "data": {
            "text/plain": [
              "   Cement  Blast Furnace Slag  Fly Ash  Water  Superplasticizer  \\\n",
              "0   540.0                 0.0      0.0  162.0               2.5   \n",
              "1   540.0                 0.0      0.0  162.0               2.5   \n",
              "2   332.5               142.5      0.0  228.0               0.0   \n",
              "3   332.5               142.5      0.0  228.0               0.0   \n",
              "4   198.6               132.4      0.0  192.0               0.0   \n",
              "\n",
              "   Coarse Aggregate  Fine Aggregate  Age  Strength  \n",
              "0            1040.0           676.0   28     79.99  \n",
              "1            1055.0           676.0   28     61.89  \n",
              "2             932.0           594.0  270     40.27  \n",
              "3             932.0           594.0  365     41.05  \n",
              "4             978.4           825.5  360     44.30  "
            ],
            "text/html": [
              "\n",
              "  <div id=\"df-1b047c19-7efb-4c41-bee8-9cbd4547cdf9\">\n",
              "    <div class=\"colab-df-container\">\n",
              "      <div>\n",
              "<style scoped>\n",
              "    .dataframe tbody tr th:only-of-type {\n",
              "        vertical-align: middle;\n",
              "    }\n",
              "\n",
              "    .dataframe tbody tr th {\n",
              "        vertical-align: top;\n",
              "    }\n",
              "\n",
              "    .dataframe thead th {\n",
              "        text-align: right;\n",
              "    }\n",
              "</style>\n",
              "<table border=\"1\" class=\"dataframe\">\n",
              "  <thead>\n",
              "    <tr style=\"text-align: right;\">\n",
              "      <th></th>\n",
              "      <th>Cement</th>\n",
              "      <th>Blast Furnace Slag</th>\n",
              "      <th>Fly Ash</th>\n",
              "      <th>Water</th>\n",
              "      <th>Superplasticizer</th>\n",
              "      <th>Coarse Aggregate</th>\n",
              "      <th>Fine Aggregate</th>\n",
              "      <th>Age</th>\n",
              "      <th>Strength</th>\n",
              "    </tr>\n",
              "  </thead>\n",
              "  <tbody>\n",
              "    <tr>\n",
              "      <th>0</th>\n",
              "      <td>540.0</td>\n",
              "      <td>0.0</td>\n",
              "      <td>0.0</td>\n",
              "      <td>162.0</td>\n",
              "      <td>2.5</td>\n",
              "      <td>1040.0</td>\n",
              "      <td>676.0</td>\n",
              "      <td>28</td>\n",
              "      <td>79.99</td>\n",
              "    </tr>\n",
              "    <tr>\n",
              "      <th>1</th>\n",
              "      <td>540.0</td>\n",
              "      <td>0.0</td>\n",
              "      <td>0.0</td>\n",
              "      <td>162.0</td>\n",
              "      <td>2.5</td>\n",
              "      <td>1055.0</td>\n",
              "      <td>676.0</td>\n",
              "      <td>28</td>\n",
              "      <td>61.89</td>\n",
              "    </tr>\n",
              "    <tr>\n",
              "      <th>2</th>\n",
              "      <td>332.5</td>\n",
              "      <td>142.5</td>\n",
              "      <td>0.0</td>\n",
              "      <td>228.0</td>\n",
              "      <td>0.0</td>\n",
              "      <td>932.0</td>\n",
              "      <td>594.0</td>\n",
              "      <td>270</td>\n",
              "      <td>40.27</td>\n",
              "    </tr>\n",
              "    <tr>\n",
              "      <th>3</th>\n",
              "      <td>332.5</td>\n",
              "      <td>142.5</td>\n",
              "      <td>0.0</td>\n",
              "      <td>228.0</td>\n",
              "      <td>0.0</td>\n",
              "      <td>932.0</td>\n",
              "      <td>594.0</td>\n",
              "      <td>365</td>\n",
              "      <td>41.05</td>\n",
              "    </tr>\n",
              "    <tr>\n",
              "      <th>4</th>\n",
              "      <td>198.6</td>\n",
              "      <td>132.4</td>\n",
              "      <td>0.0</td>\n",
              "      <td>192.0</td>\n",
              "      <td>0.0</td>\n",
              "      <td>978.4</td>\n",
              "      <td>825.5</td>\n",
              "      <td>360</td>\n",
              "      <td>44.30</td>\n",
              "    </tr>\n",
              "  </tbody>\n",
              "</table>\n",
              "</div>\n",
              "      <button class=\"colab-df-convert\" onclick=\"convertToInteractive('df-1b047c19-7efb-4c41-bee8-9cbd4547cdf9')\"\n",
              "              title=\"Convert this dataframe to an interactive table.\"\n",
              "              style=\"display:none;\">\n",
              "        \n",
              "  <svg xmlns=\"http://www.w3.org/2000/svg\" height=\"24px\"viewBox=\"0 0 24 24\"\n",
              "       width=\"24px\">\n",
              "    <path d=\"M0 0h24v24H0V0z\" fill=\"none\"/>\n",
              "    <path d=\"M18.56 5.44l.94 2.06.94-2.06 2.06-.94-2.06-.94-.94-2.06-.94 2.06-2.06.94zm-11 1L8.5 8.5l.94-2.06 2.06-.94-2.06-.94L8.5 2.5l-.94 2.06-2.06.94zm10 10l.94 2.06.94-2.06 2.06-.94-2.06-.94-.94-2.06-.94 2.06-2.06.94z\"/><path d=\"M17.41 7.96l-1.37-1.37c-.4-.4-.92-.59-1.43-.59-.52 0-1.04.2-1.43.59L10.3 9.45l-7.72 7.72c-.78.78-.78 2.05 0 2.83L4 21.41c.39.39.9.59 1.41.59.51 0 1.02-.2 1.41-.59l7.78-7.78 2.81-2.81c.8-.78.8-2.07 0-2.86zM5.41 20L4 18.59l7.72-7.72 1.47 1.35L5.41 20z\"/>\n",
              "  </svg>\n",
              "      </button>\n",
              "      \n",
              "  <style>\n",
              "    .colab-df-container {\n",
              "      display:flex;\n",
              "      flex-wrap:wrap;\n",
              "      gap: 12px;\n",
              "    }\n",
              "\n",
              "    .colab-df-convert {\n",
              "      background-color: #E8F0FE;\n",
              "      border: none;\n",
              "      border-radius: 50%;\n",
              "      cursor: pointer;\n",
              "      display: none;\n",
              "      fill: #1967D2;\n",
              "      height: 32px;\n",
              "      padding: 0 0 0 0;\n",
              "      width: 32px;\n",
              "    }\n",
              "\n",
              "    .colab-df-convert:hover {\n",
              "      background-color: #E2EBFA;\n",
              "      box-shadow: 0px 1px 2px rgba(60, 64, 67, 0.3), 0px 1px 3px 1px rgba(60, 64, 67, 0.15);\n",
              "      fill: #174EA6;\n",
              "    }\n",
              "\n",
              "    [theme=dark] .colab-df-convert {\n",
              "      background-color: #3B4455;\n",
              "      fill: #D2E3FC;\n",
              "    }\n",
              "\n",
              "    [theme=dark] .colab-df-convert:hover {\n",
              "      background-color: #434B5C;\n",
              "      box-shadow: 0px 1px 3px 1px rgba(0, 0, 0, 0.15);\n",
              "      filter: drop-shadow(0px 1px 2px rgba(0, 0, 0, 0.3));\n",
              "      fill: #FFFFFF;\n",
              "    }\n",
              "  </style>\n",
              "\n",
              "      <script>\n",
              "        const buttonEl =\n",
              "          document.querySelector('#df-1b047c19-7efb-4c41-bee8-9cbd4547cdf9 button.colab-df-convert');\n",
              "        buttonEl.style.display =\n",
              "          google.colab.kernel.accessAllowed ? 'block' : 'none';\n",
              "\n",
              "        async function convertToInteractive(key) {\n",
              "          const element = document.querySelector('#df-1b047c19-7efb-4c41-bee8-9cbd4547cdf9');\n",
              "          const dataTable =\n",
              "            await google.colab.kernel.invokeFunction('convertToInteractive',\n",
              "                                                     [key], {});\n",
              "          if (!dataTable) return;\n",
              "\n",
              "          const docLinkHtml = 'Like what you see? Visit the ' +\n",
              "            '<a target=\"_blank\" href=https://colab.research.google.com/notebooks/data_table.ipynb>data table notebook</a>'\n",
              "            + ' to learn more about interactive tables.';\n",
              "          element.innerHTML = '';\n",
              "          dataTable['output_type'] = 'display_data';\n",
              "          await google.colab.output.renderOutput(dataTable, element);\n",
              "          const docLink = document.createElement('div');\n",
              "          docLink.innerHTML = docLinkHtml;\n",
              "          element.appendChild(docLink);\n",
              "        }\n",
              "      </script>\n",
              "    </div>\n",
              "  </div>\n",
              "  "
            ]
          },
          "metadata": {},
          "execution_count": 2
        }
      ]
    },
    {
      "cell_type": "code",
      "source": [
        "concrete_data.shape\n",
        "concrete_data.describe()\n",
        "concrete_data.isnull().sum()"
      ],
      "metadata": {
        "colab": {
          "base_uri": "https://localhost:8080/"
        },
        "id": "ZnTRo3GB4VRQ",
        "outputId": "0b69bfe0-e321-4d47-be19-c276c26a4f47"
      },
      "execution_count": 3,
      "outputs": [
        {
          "output_type": "execute_result",
          "data": {
            "text/plain": [
              "Cement                0\n",
              "Blast Furnace Slag    0\n",
              "Fly Ash               0\n",
              "Water                 0\n",
              "Superplasticizer      0\n",
              "Coarse Aggregate      0\n",
              "Fine Aggregate        0\n",
              "Age                   0\n",
              "Strength              0\n",
              "dtype: int64"
            ]
          },
          "metadata": {},
          "execution_count": 3
        }
      ]
    },
    {
      "cell_type": "code",
      "source": [
        "concrete_data_columns = concrete_data.columns\n",
        "predictors = concrete_data[concrete_data_columns[concrete_data_columns != 'Strength']] # all columns except Strength\n",
        "target = concrete_data['Strength'] # Strength column"
      ],
      "metadata": {
        "id": "24qsCb374XJQ"
      },
      "execution_count": 4,
      "outputs": []
    },
    {
      "cell_type": "code",
      "source": [
        "predictors = (predictors - predictors.mean()) / predictors.std()"
      ],
      "metadata": {
        "id": "CRD_c-f06KUs"
      },
      "execution_count": 5,
      "outputs": []
    },
    {
      "cell_type": "code",
      "source": [
        "predictors.head()\n",
        "target.head()"
      ],
      "metadata": {
        "colab": {
          "base_uri": "https://localhost:8080/"
        },
        "id": "eTh3mzV84Zsz",
        "outputId": "e0906a57-95c3-4116-84c3-e29a39f58202"
      },
      "execution_count": 6,
      "outputs": [
        {
          "output_type": "execute_result",
          "data": {
            "text/plain": [
              "0    79.99\n",
              "1    61.89\n",
              "2    40.27\n",
              "3    41.05\n",
              "4    44.30\n",
              "Name: Strength, dtype: float64"
            ]
          },
          "metadata": {},
          "execution_count": 6
        }
      ]
    },
    {
      "cell_type": "code",
      "source": [
        "n_cols = predictors.shape[1] # number of predictors\n",
        "n_cols"
      ],
      "metadata": {
        "colab": {
          "base_uri": "https://localhost:8080/"
        },
        "id": "swLd2rt84cvf",
        "outputId": "0f375489-d529-48ed-9671-4226f2c300df"
      },
      "execution_count": 7,
      "outputs": [
        {
          "output_type": "execute_result",
          "data": {
            "text/plain": [
              "8"
            ]
          },
          "metadata": {},
          "execution_count": 7
        }
      ]
    },
    {
      "cell_type": "code",
      "source": [
        "import keras"
      ],
      "metadata": {
        "id": "c5rS8lJh4fub"
      },
      "execution_count": 8,
      "outputs": []
    },
    {
      "cell_type": "code",
      "source": [
        "from keras.models import Sequential\n",
        "from keras.layers import Dense"
      ],
      "metadata": {
        "id": "iKISujkq4h3K"
      },
      "execution_count": 9,
      "outputs": []
    },
    {
      "cell_type": "code",
      "source": [
        "# define regression model\n",
        "def regression_model():\n",
        "    # create model\n",
        "    model = Sequential()\n",
        "    model.add(Dense(10, activation='relu', input_shape=(n_cols,)))\n",
        "    model.add(Dense(1))\n",
        "    \n",
        "    # compile model\n",
        "    model.compile(optimizer='adam', loss='mean_squared_error')\n",
        "    return model"
      ],
      "metadata": {
        "id": "4bCq6ANi4rFb"
      },
      "execution_count": 10,
      "outputs": []
    },
    {
      "cell_type": "code",
      "source": [
        "from sklearn.model_selection import train_test_split\n",
        "X_train, X_test, y_train, y_test = train_test_split(predictors, target, test_size=0.3, random_state=42)"
      ],
      "metadata": {
        "id": "Un-NBjJ94tAq"
      },
      "execution_count": 11,
      "outputs": []
    },
    {
      "cell_type": "code",
      "source": [
        "# build the model\n",
        "model = regression_model()"
      ],
      "metadata": {
        "id": "SVtnPjwb4wn9"
      },
      "execution_count": 12,
      "outputs": []
    },
    {
      "cell_type": "code",
      "source": [
        "# fit the model\n",
        "epochs = 100\n",
        "model.fit(X_train, y_train, epochs=epochs, verbose=1)"
      ],
      "metadata": {
        "colab": {
          "base_uri": "https://localhost:8080/"
        },
        "id": "did2r_I740bR",
        "outputId": "6e84b256-baf0-458e-cf79-423fdbda4051"
      },
      "execution_count": 13,
      "outputs": [
        {
          "output_type": "stream",
          "name": "stdout",
          "text": [
            "Epoch 1/100\n",
            "23/23 [==============================] - 0s 2ms/step - loss: 1497.0173\n",
            "Epoch 2/100\n",
            "23/23 [==============================] - 0s 2ms/step - loss: 1478.3557\n",
            "Epoch 3/100\n",
            "23/23 [==============================] - 0s 1ms/step - loss: 1459.0590\n",
            "Epoch 4/100\n",
            "23/23 [==============================] - 0s 1ms/step - loss: 1439.2286\n",
            "Epoch 5/100\n",
            "23/23 [==============================] - 0s 2ms/step - loss: 1418.4456\n",
            "Epoch 6/100\n",
            "23/23 [==============================] - 0s 1ms/step - loss: 1396.7938\n",
            "Epoch 7/100\n",
            "23/23 [==============================] - 0s 1ms/step - loss: 1374.2686\n",
            "Epoch 8/100\n",
            "23/23 [==============================] - 0s 2ms/step - loss: 1350.7029\n",
            "Epoch 9/100\n",
            "23/23 [==============================] - 0s 1ms/step - loss: 1326.5854\n",
            "Epoch 10/100\n",
            "23/23 [==============================] - 0s 1ms/step - loss: 1301.1356\n",
            "Epoch 11/100\n",
            "23/23 [==============================] - 0s 1ms/step - loss: 1274.6476\n",
            "Epoch 12/100\n",
            "23/23 [==============================] - 0s 1ms/step - loss: 1247.1124\n",
            "Epoch 13/100\n",
            "23/23 [==============================] - 0s 1ms/step - loss: 1218.9930\n",
            "Epoch 14/100\n",
            "23/23 [==============================] - 0s 2ms/step - loss: 1189.7821\n",
            "Epoch 15/100\n",
            "23/23 [==============================] - 0s 2ms/step - loss: 1160.1016\n",
            "Epoch 16/100\n",
            "23/23 [==============================] - 0s 1ms/step - loss: 1129.2526\n",
            "Epoch 17/100\n",
            "23/23 [==============================] - 0s 1ms/step - loss: 1098.0735\n",
            "Epoch 18/100\n",
            "23/23 [==============================] - 0s 1ms/step - loss: 1066.5939\n",
            "Epoch 19/100\n",
            "23/23 [==============================] - 0s 2ms/step - loss: 1034.5607\n",
            "Epoch 20/100\n",
            "23/23 [==============================] - 0s 1ms/step - loss: 1002.1662\n",
            "Epoch 21/100\n",
            "23/23 [==============================] - 0s 1ms/step - loss: 969.4474\n",
            "Epoch 22/100\n",
            "23/23 [==============================] - 0s 1ms/step - loss: 937.1674\n",
            "Epoch 23/100\n",
            "23/23 [==============================] - 0s 1ms/step - loss: 904.7807\n",
            "Epoch 24/100\n",
            "23/23 [==============================] - 0s 2ms/step - loss: 872.1669\n",
            "Epoch 25/100\n",
            "23/23 [==============================] - 0s 1ms/step - loss: 840.3849\n",
            "Epoch 26/100\n",
            "23/23 [==============================] - 0s 1ms/step - loss: 808.8067\n",
            "Epoch 27/100\n",
            "23/23 [==============================] - 0s 2ms/step - loss: 777.7161\n",
            "Epoch 28/100\n",
            "23/23 [==============================] - 0s 1ms/step - loss: 747.3239\n",
            "Epoch 29/100\n",
            "23/23 [==============================] - 0s 1ms/step - loss: 717.7564\n",
            "Epoch 30/100\n",
            "23/23 [==============================] - 0s 2ms/step - loss: 688.5690\n",
            "Epoch 31/100\n",
            "23/23 [==============================] - 0s 2ms/step - loss: 660.1326\n",
            "Epoch 32/100\n",
            "23/23 [==============================] - 0s 1ms/step - loss: 632.9116\n",
            "Epoch 33/100\n",
            "23/23 [==============================] - 0s 1ms/step - loss: 606.2866\n",
            "Epoch 34/100\n",
            "23/23 [==============================] - 0s 1ms/step - loss: 581.0305\n",
            "Epoch 35/100\n",
            "23/23 [==============================] - 0s 2ms/step - loss: 556.2999\n",
            "Epoch 36/100\n",
            "23/23 [==============================] - 0s 3ms/step - loss: 532.7064\n",
            "Epoch 37/100\n",
            "23/23 [==============================] - 0s 2ms/step - loss: 510.5027\n",
            "Epoch 38/100\n",
            "23/23 [==============================] - 0s 2ms/step - loss: 488.9333\n",
            "Epoch 39/100\n",
            "23/23 [==============================] - 0s 2ms/step - loss: 468.7635\n",
            "Epoch 40/100\n",
            "23/23 [==============================] - 0s 2ms/step - loss: 449.7122\n",
            "Epoch 41/100\n",
            "23/23 [==============================] - 0s 3ms/step - loss: 431.6452\n",
            "Epoch 42/100\n",
            "23/23 [==============================] - 0s 2ms/step - loss: 414.5015\n",
            "Epoch 43/100\n",
            "23/23 [==============================] - 0s 2ms/step - loss: 398.5925\n",
            "Epoch 44/100\n",
            "23/23 [==============================] - 0s 3ms/step - loss: 383.2673\n",
            "Epoch 45/100\n",
            "23/23 [==============================] - 0s 2ms/step - loss: 369.0604\n",
            "Epoch 46/100\n",
            "23/23 [==============================] - 0s 2ms/step - loss: 355.6977\n",
            "Epoch 47/100\n",
            "23/23 [==============================] - 0s 3ms/step - loss: 343.2399\n",
            "Epoch 48/100\n",
            "23/23 [==============================] - 0s 3ms/step - loss: 331.5914\n",
            "Epoch 49/100\n",
            "23/23 [==============================] - 0s 2ms/step - loss: 320.7788\n",
            "Epoch 50/100\n",
            "23/23 [==============================] - 0s 2ms/step - loss: 310.5236\n",
            "Epoch 51/100\n",
            "23/23 [==============================] - 0s 3ms/step - loss: 301.0401\n",
            "Epoch 52/100\n",
            "23/23 [==============================] - 0s 3ms/step - loss: 292.4431\n",
            "Epoch 53/100\n",
            "23/23 [==============================] - 0s 6ms/step - loss: 283.8230\n",
            "Epoch 54/100\n",
            "23/23 [==============================] - 0s 3ms/step - loss: 276.2563\n",
            "Epoch 55/100\n",
            "23/23 [==============================] - 0s 2ms/step - loss: 268.9422\n",
            "Epoch 56/100\n",
            "23/23 [==============================] - 0s 3ms/step - loss: 262.0914\n",
            "Epoch 57/100\n",
            "23/23 [==============================] - 0s 2ms/step - loss: 255.8362\n",
            "Epoch 58/100\n",
            "23/23 [==============================] - 0s 2ms/step - loss: 249.9704\n",
            "Epoch 59/100\n",
            "23/23 [==============================] - 0s 5ms/step - loss: 244.3415\n",
            "Epoch 60/100\n",
            "23/23 [==============================] - 0s 2ms/step - loss: 239.1022\n",
            "Epoch 61/100\n",
            "23/23 [==============================] - 0s 3ms/step - loss: 234.3382\n",
            "Epoch 62/100\n",
            "23/23 [==============================] - 0s 4ms/step - loss: 229.4159\n",
            "Epoch 63/100\n",
            "23/23 [==============================] - 0s 3ms/step - loss: 225.3167\n",
            "Epoch 64/100\n",
            "23/23 [==============================] - 0s 3ms/step - loss: 221.0934\n",
            "Epoch 65/100\n",
            "23/23 [==============================] - 0s 2ms/step - loss: 217.1816\n",
            "Epoch 66/100\n",
            "23/23 [==============================] - 0s 2ms/step - loss: 213.5481\n",
            "Epoch 67/100\n",
            "23/23 [==============================] - 0s 5ms/step - loss: 210.1189\n",
            "Epoch 68/100\n",
            "23/23 [==============================] - 0s 3ms/step - loss: 206.9911\n",
            "Epoch 69/100\n",
            "23/23 [==============================] - 0s 5ms/step - loss: 203.9705\n",
            "Epoch 70/100\n",
            "23/23 [==============================] - 0s 3ms/step - loss: 201.1147\n",
            "Epoch 71/100\n",
            "23/23 [==============================] - 0s 3ms/step - loss: 198.5908\n",
            "Epoch 72/100\n",
            "23/23 [==============================] - 0s 3ms/step - loss: 195.9571\n",
            "Epoch 73/100\n",
            "23/23 [==============================] - 0s 3ms/step - loss: 193.6074\n",
            "Epoch 74/100\n",
            "23/23 [==============================] - 0s 4ms/step - loss: 191.3094\n",
            "Epoch 75/100\n",
            "23/23 [==============================] - 0s 3ms/step - loss: 189.2800\n",
            "Epoch 76/100\n",
            "23/23 [==============================] - 0s 3ms/step - loss: 187.1627\n",
            "Epoch 77/100\n",
            "23/23 [==============================] - 0s 2ms/step - loss: 185.2272\n",
            "Epoch 78/100\n",
            "23/23 [==============================] - 0s 3ms/step - loss: 183.5446\n",
            "Epoch 79/100\n",
            "23/23 [==============================] - 0s 3ms/step - loss: 181.8317\n",
            "Epoch 80/100\n",
            "23/23 [==============================] - 0s 2ms/step - loss: 180.2999\n",
            "Epoch 81/100\n",
            "23/23 [==============================] - 0s 2ms/step - loss: 178.8023\n",
            "Epoch 82/100\n",
            "23/23 [==============================] - 0s 2ms/step - loss: 177.3855\n",
            "Epoch 83/100\n",
            "23/23 [==============================] - 0s 3ms/step - loss: 175.9156\n",
            "Epoch 84/100\n",
            "23/23 [==============================] - 0s 2ms/step - loss: 174.6642\n",
            "Epoch 85/100\n",
            "23/23 [==============================] - 0s 3ms/step - loss: 173.3167\n",
            "Epoch 86/100\n",
            "23/23 [==============================] - 0s 2ms/step - loss: 172.0971\n",
            "Epoch 87/100\n",
            "23/23 [==============================] - 0s 2ms/step - loss: 170.9898\n",
            "Epoch 88/100\n",
            "23/23 [==============================] - 0s 3ms/step - loss: 169.8487\n",
            "Epoch 89/100\n",
            "23/23 [==============================] - 0s 3ms/step - loss: 168.7737\n",
            "Epoch 90/100\n",
            "23/23 [==============================] - 0s 2ms/step - loss: 167.7667\n",
            "Epoch 91/100\n",
            "23/23 [==============================] - 0s 2ms/step - loss: 166.7841\n",
            "Epoch 92/100\n",
            "23/23 [==============================] - 0s 2ms/step - loss: 165.8756\n",
            "Epoch 93/100\n",
            "23/23 [==============================] - 0s 3ms/step - loss: 164.9105\n",
            "Epoch 94/100\n",
            "23/23 [==============================] - 0s 4ms/step - loss: 164.0215\n",
            "Epoch 95/100\n",
            "23/23 [==============================] - 0s 2ms/step - loss: 163.1966\n",
            "Epoch 96/100\n",
            "23/23 [==============================] - 0s 3ms/step - loss: 162.3906\n",
            "Epoch 97/100\n",
            "23/23 [==============================] - 0s 2ms/step - loss: 161.6247\n",
            "Epoch 98/100\n",
            "23/23 [==============================] - 0s 2ms/step - loss: 160.7717\n",
            "Epoch 99/100\n",
            "23/23 [==============================] - 0s 4ms/step - loss: 159.9761\n",
            "Epoch 100/100\n",
            "23/23 [==============================] - 0s 2ms/step - loss: 159.3763\n"
          ]
        },
        {
          "output_type": "execute_result",
          "data": {
            "text/plain": [
              "<keras.callbacks.History at 0x7efd19109a90>"
            ]
          },
          "metadata": {},
          "execution_count": 13
        }
      ]
    },
    {
      "cell_type": "code",
      "source": [
        "loss_val = model.evaluate(X_test, y_test)\n",
        "y_pred = model.predict(X_test)\n",
        "loss_val"
      ],
      "metadata": {
        "colab": {
          "base_uri": "https://localhost:8080/"
        },
        "id": "8_rADs3L42Nq",
        "outputId": "83153fbb-96f7-4495-c58d-7835808fef58"
      },
      "execution_count": 14,
      "outputs": [
        {
          "output_type": "stream",
          "name": "stdout",
          "text": [
            "10/10 [==============================] - 0s 2ms/step - loss: 157.7924\n",
            "10/10 [==============================] - 0s 2ms/step\n"
          ]
        },
        {
          "output_type": "execute_result",
          "data": {
            "text/plain": [
              "157.7924041748047"
            ]
          },
          "metadata": {},
          "execution_count": 14
        }
      ]
    },
    {
      "cell_type": "code",
      "source": [
        "from sklearn.metrics import mean_squared_error"
      ],
      "metadata": {
        "id": "VdrCQbPW44v4"
      },
      "execution_count": 15,
      "outputs": []
    },
    {
      "cell_type": "code",
      "source": [
        "mean_square_error = mean_squared_error(y_test, y_pred)\n",
        "mean = np.mean(mean_square_error)\n",
        "standard_deviation = np.std(mean_square_error)\n",
        "print(mean, standard_deviation)"
      ],
      "metadata": {
        "colab": {
          "base_uri": "https://localhost:8080/"
        },
        "id": "utzkEXHd4-Cc",
        "outputId": "901b2e0b-c8c4-4be0-e9eb-3ad2968416ba"
      },
      "execution_count": 16,
      "outputs": [
        {
          "output_type": "stream",
          "name": "stdout",
          "text": [
            "157.79241605140248 0.0\n"
          ]
        }
      ]
    },
    {
      "cell_type": "code",
      "source": [],
      "metadata": {
        "id": "mPSlbSQe5EQ4"
      },
      "execution_count": 16,
      "outputs": []
    }
  ]
}