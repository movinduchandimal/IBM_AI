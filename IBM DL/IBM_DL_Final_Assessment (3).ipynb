{
  "nbformat": 4,
  "nbformat_minor": 0,
  "metadata": {
    "colab": {
      "provenance": []
    },
    "kernelspec": {
      "name": "python3",
      "display_name": "Python 3"
    },
    "language_info": {
      "name": "python"
    }
  },
  "cells": [
    {
      "cell_type": "markdown",
      "source": [
        "Import Library"
      ],
      "metadata": {
        "id": "RniHfRwHzfSP"
      }
    },
    {
      "cell_type": "code",
      "source": [
        "import pandas as pd\n",
        "import numpy as np"
      ],
      "metadata": {
        "id": "mX0cMVb_4Pwg"
      },
      "execution_count": 17,
      "outputs": []
    },
    {
      "cell_type": "code",
      "source": [
        "concrete_data = pd.read_csv('concrete_data.csv')\n",
        "concrete_data.head()"
      ],
      "metadata": {
        "colab": {
          "base_uri": "https://localhost:8080/",
          "height": 305
        },
        "id": "9e7_YYXg4REq",
        "outputId": "9557a573-3c45-4d60-a135-1490e030f1f3"
      },
      "execution_count": 18,
      "outputs": [
        {
          "output_type": "execute_result",
          "data": {
            "text/plain": [
              "   Cement  Blast Furnace Slag  Fly Ash  Water  Superplasticizer  \\\n",
              "0   540.0                 0.0      0.0  162.0               2.5   \n",
              "1   540.0                 0.0      0.0  162.0               2.5   \n",
              "2   332.5               142.5      0.0  228.0               0.0   \n",
              "3   332.5               142.5      0.0  228.0               0.0   \n",
              "4   198.6               132.4      0.0  192.0               0.0   \n",
              "\n",
              "   Coarse Aggregate  Fine Aggregate  Age  Strength  \n",
              "0            1040.0           676.0   28     79.99  \n",
              "1            1055.0           676.0   28     61.89  \n",
              "2             932.0           594.0  270     40.27  \n",
              "3             932.0           594.0  365     41.05  \n",
              "4             978.4           825.5  360     44.30  "
            ],
            "text/html": [
              "\n",
              "  <div id=\"df-4f3de746-09ab-4432-9788-e9a8950f0e96\">\n",
              "    <div class=\"colab-df-container\">\n",
              "      <div>\n",
              "<style scoped>\n",
              "    .dataframe tbody tr th:only-of-type {\n",
              "        vertical-align: middle;\n",
              "    }\n",
              "\n",
              "    .dataframe tbody tr th {\n",
              "        vertical-align: top;\n",
              "    }\n",
              "\n",
              "    .dataframe thead th {\n",
              "        text-align: right;\n",
              "    }\n",
              "</style>\n",
              "<table border=\"1\" class=\"dataframe\">\n",
              "  <thead>\n",
              "    <tr style=\"text-align: right;\">\n",
              "      <th></th>\n",
              "      <th>Cement</th>\n",
              "      <th>Blast Furnace Slag</th>\n",
              "      <th>Fly Ash</th>\n",
              "      <th>Water</th>\n",
              "      <th>Superplasticizer</th>\n",
              "      <th>Coarse Aggregate</th>\n",
              "      <th>Fine Aggregate</th>\n",
              "      <th>Age</th>\n",
              "      <th>Strength</th>\n",
              "    </tr>\n",
              "  </thead>\n",
              "  <tbody>\n",
              "    <tr>\n",
              "      <th>0</th>\n",
              "      <td>540.0</td>\n",
              "      <td>0.0</td>\n",
              "      <td>0.0</td>\n",
              "      <td>162.0</td>\n",
              "      <td>2.5</td>\n",
              "      <td>1040.0</td>\n",
              "      <td>676.0</td>\n",
              "      <td>28</td>\n",
              "      <td>79.99</td>\n",
              "    </tr>\n",
              "    <tr>\n",
              "      <th>1</th>\n",
              "      <td>540.0</td>\n",
              "      <td>0.0</td>\n",
              "      <td>0.0</td>\n",
              "      <td>162.0</td>\n",
              "      <td>2.5</td>\n",
              "      <td>1055.0</td>\n",
              "      <td>676.0</td>\n",
              "      <td>28</td>\n",
              "      <td>61.89</td>\n",
              "    </tr>\n",
              "    <tr>\n",
              "      <th>2</th>\n",
              "      <td>332.5</td>\n",
              "      <td>142.5</td>\n",
              "      <td>0.0</td>\n",
              "      <td>228.0</td>\n",
              "      <td>0.0</td>\n",
              "      <td>932.0</td>\n",
              "      <td>594.0</td>\n",
              "      <td>270</td>\n",
              "      <td>40.27</td>\n",
              "    </tr>\n",
              "    <tr>\n",
              "      <th>3</th>\n",
              "      <td>332.5</td>\n",
              "      <td>142.5</td>\n",
              "      <td>0.0</td>\n",
              "      <td>228.0</td>\n",
              "      <td>0.0</td>\n",
              "      <td>932.0</td>\n",
              "      <td>594.0</td>\n",
              "      <td>365</td>\n",
              "      <td>41.05</td>\n",
              "    </tr>\n",
              "    <tr>\n",
              "      <th>4</th>\n",
              "      <td>198.6</td>\n",
              "      <td>132.4</td>\n",
              "      <td>0.0</td>\n",
              "      <td>192.0</td>\n",
              "      <td>0.0</td>\n",
              "      <td>978.4</td>\n",
              "      <td>825.5</td>\n",
              "      <td>360</td>\n",
              "      <td>44.30</td>\n",
              "    </tr>\n",
              "  </tbody>\n",
              "</table>\n",
              "</div>\n",
              "      <button class=\"colab-df-convert\" onclick=\"convertToInteractive('df-4f3de746-09ab-4432-9788-e9a8950f0e96')\"\n",
              "              title=\"Convert this dataframe to an interactive table.\"\n",
              "              style=\"display:none;\">\n",
              "        \n",
              "  <svg xmlns=\"http://www.w3.org/2000/svg\" height=\"24px\"viewBox=\"0 0 24 24\"\n",
              "       width=\"24px\">\n",
              "    <path d=\"M0 0h24v24H0V0z\" fill=\"none\"/>\n",
              "    <path d=\"M18.56 5.44l.94 2.06.94-2.06 2.06-.94-2.06-.94-.94-2.06-.94 2.06-2.06.94zm-11 1L8.5 8.5l.94-2.06 2.06-.94-2.06-.94L8.5 2.5l-.94 2.06-2.06.94zm10 10l.94 2.06.94-2.06 2.06-.94-2.06-.94-.94-2.06-.94 2.06-2.06.94z\"/><path d=\"M17.41 7.96l-1.37-1.37c-.4-.4-.92-.59-1.43-.59-.52 0-1.04.2-1.43.59L10.3 9.45l-7.72 7.72c-.78.78-.78 2.05 0 2.83L4 21.41c.39.39.9.59 1.41.59.51 0 1.02-.2 1.41-.59l7.78-7.78 2.81-2.81c.8-.78.8-2.07 0-2.86zM5.41 20L4 18.59l7.72-7.72 1.47 1.35L5.41 20z\"/>\n",
              "  </svg>\n",
              "      </button>\n",
              "      \n",
              "  <style>\n",
              "    .colab-df-container {\n",
              "      display:flex;\n",
              "      flex-wrap:wrap;\n",
              "      gap: 12px;\n",
              "    }\n",
              "\n",
              "    .colab-df-convert {\n",
              "      background-color: #E8F0FE;\n",
              "      border: none;\n",
              "      border-radius: 50%;\n",
              "      cursor: pointer;\n",
              "      display: none;\n",
              "      fill: #1967D2;\n",
              "      height: 32px;\n",
              "      padding: 0 0 0 0;\n",
              "      width: 32px;\n",
              "    }\n",
              "\n",
              "    .colab-df-convert:hover {\n",
              "      background-color: #E2EBFA;\n",
              "      box-shadow: 0px 1px 2px rgba(60, 64, 67, 0.3), 0px 1px 3px 1px rgba(60, 64, 67, 0.15);\n",
              "      fill: #174EA6;\n",
              "    }\n",
              "\n",
              "    [theme=dark] .colab-df-convert {\n",
              "      background-color: #3B4455;\n",
              "      fill: #D2E3FC;\n",
              "    }\n",
              "\n",
              "    [theme=dark] .colab-df-convert:hover {\n",
              "      background-color: #434B5C;\n",
              "      box-shadow: 0px 1px 3px 1px rgba(0, 0, 0, 0.15);\n",
              "      filter: drop-shadow(0px 1px 2px rgba(0, 0, 0, 0.3));\n",
              "      fill: #FFFFFF;\n",
              "    }\n",
              "  </style>\n",
              "\n",
              "      <script>\n",
              "        const buttonEl =\n",
              "          document.querySelector('#df-4f3de746-09ab-4432-9788-e9a8950f0e96 button.colab-df-convert');\n",
              "        buttonEl.style.display =\n",
              "          google.colab.kernel.accessAllowed ? 'block' : 'none';\n",
              "\n",
              "        async function convertToInteractive(key) {\n",
              "          const element = document.querySelector('#df-4f3de746-09ab-4432-9788-e9a8950f0e96');\n",
              "          const dataTable =\n",
              "            await google.colab.kernel.invokeFunction('convertToInteractive',\n",
              "                                                     [key], {});\n",
              "          if (!dataTable) return;\n",
              "\n",
              "          const docLinkHtml = 'Like what you see? Visit the ' +\n",
              "            '<a target=\"_blank\" href=https://colab.research.google.com/notebooks/data_table.ipynb>data table notebook</a>'\n",
              "            + ' to learn more about interactive tables.';\n",
              "          element.innerHTML = '';\n",
              "          dataTable['output_type'] = 'display_data';\n",
              "          await google.colab.output.renderOutput(dataTable, element);\n",
              "          const docLink = document.createElement('div');\n",
              "          docLink.innerHTML = docLinkHtml;\n",
              "          element.appendChild(docLink);\n",
              "        }\n",
              "      </script>\n",
              "    </div>\n",
              "  </div>\n",
              "  "
            ]
          },
          "metadata": {},
          "execution_count": 18
        }
      ]
    },
    {
      "cell_type": "code",
      "source": [
        "concrete_data.shape\n",
        "concrete_data.describe()\n",
        "concrete_data.isnull().sum()"
      ],
      "metadata": {
        "colab": {
          "base_uri": "https://localhost:8080/"
        },
        "id": "ZnTRo3GB4VRQ",
        "outputId": "1e005c7a-38f2-40eb-a0d8-04e5ae9ed839"
      },
      "execution_count": 19,
      "outputs": [
        {
          "output_type": "execute_result",
          "data": {
            "text/plain": [
              "Cement                0\n",
              "Blast Furnace Slag    0\n",
              "Fly Ash               0\n",
              "Water                 0\n",
              "Superplasticizer      0\n",
              "Coarse Aggregate      0\n",
              "Fine Aggregate        0\n",
              "Age                   0\n",
              "Strength              0\n",
              "dtype: int64"
            ]
          },
          "metadata": {},
          "execution_count": 19
        }
      ]
    },
    {
      "cell_type": "code",
      "source": [
        "concrete_data_columns = concrete_data.columns\n",
        "predictors = concrete_data[concrete_data_columns[concrete_data_columns != 'Strength']] # all columns except Strength\n",
        "target = concrete_data['Strength'] # Strength column"
      ],
      "metadata": {
        "id": "24qsCb374XJQ"
      },
      "execution_count": 20,
      "outputs": []
    },
    {
      "cell_type": "code",
      "source": [
        "predictors = (predictors - predictors.mean()) / predictors.std()"
      ],
      "metadata": {
        "id": "CRD_c-f06KUs"
      },
      "execution_count": 21,
      "outputs": []
    },
    {
      "cell_type": "code",
      "source": [
        "predictors.head()\n",
        "target.head()"
      ],
      "metadata": {
        "colab": {
          "base_uri": "https://localhost:8080/"
        },
        "id": "eTh3mzV84Zsz",
        "outputId": "7cab31a8-5c20-45d7-a25a-e55b33a4420e"
      },
      "execution_count": 22,
      "outputs": [
        {
          "output_type": "execute_result",
          "data": {
            "text/plain": [
              "0    79.99\n",
              "1    61.89\n",
              "2    40.27\n",
              "3    41.05\n",
              "4    44.30\n",
              "Name: Strength, dtype: float64"
            ]
          },
          "metadata": {},
          "execution_count": 22
        }
      ]
    },
    {
      "cell_type": "code",
      "source": [
        "n_cols = predictors.shape[1] # number of predictors\n",
        "n_cols"
      ],
      "metadata": {
        "colab": {
          "base_uri": "https://localhost:8080/"
        },
        "id": "swLd2rt84cvf",
        "outputId": "e01018cf-5f25-41e8-ed0a-e603aefb0b31"
      },
      "execution_count": 23,
      "outputs": [
        {
          "output_type": "execute_result",
          "data": {
            "text/plain": [
              "8"
            ]
          },
          "metadata": {},
          "execution_count": 23
        }
      ]
    },
    {
      "cell_type": "code",
      "source": [
        "import keras"
      ],
      "metadata": {
        "id": "c5rS8lJh4fub"
      },
      "execution_count": 24,
      "outputs": []
    },
    {
      "cell_type": "code",
      "source": [
        "from keras.models import Sequential\n",
        "from keras.layers import Dense"
      ],
      "metadata": {
        "id": "iKISujkq4h3K"
      },
      "execution_count": 25,
      "outputs": []
    },
    {
      "cell_type": "code",
      "source": [
        "# define regression model\n",
        "def regression_model():\n",
        "    # create model\n",
        "    model = Sequential()\n",
        "    model.add(Dense(10, activation='relu', input_shape=(n_cols,)))\n",
        "    model.add(Dense(10, activation='relu',))\n",
        "    model.add(Dense(10, activation='relu',))\n",
        "    model.add(Dense(1))\n",
        "    \n",
        "    # compile model\n",
        "    model.compile(optimizer='adam', loss='mean_squared_error')\n",
        "    return model"
      ],
      "metadata": {
        "id": "4bCq6ANi4rFb"
      },
      "execution_count": 26,
      "outputs": []
    },
    {
      "cell_type": "code",
      "source": [
        "from sklearn.model_selection import train_test_split\n",
        "X_train, X_test, y_train, y_test = train_test_split(predictors, target, test_size=0.3, random_state=42)"
      ],
      "metadata": {
        "id": "Un-NBjJ94tAq"
      },
      "execution_count": 27,
      "outputs": []
    },
    {
      "cell_type": "code",
      "source": [
        "# build the model\n",
        "model = regression_model()"
      ],
      "metadata": {
        "id": "SVtnPjwb4wn9"
      },
      "execution_count": 28,
      "outputs": []
    },
    {
      "cell_type": "code",
      "source": [
        "# fit the model\n",
        "epochs = 50\n",
        "model.fit(X_train, y_train, epochs=epochs, verbose=1)"
      ],
      "metadata": {
        "colab": {
          "base_uri": "https://localhost:8080/"
        },
        "id": "did2r_I740bR",
        "outputId": "d1fe72df-a9d4-4ae8-8a9b-5ee0e5caa472"
      },
      "execution_count": 29,
      "outputs": [
        {
          "output_type": "stream",
          "name": "stdout",
          "text": [
            "Epoch 1/50\n",
            "23/23 [==============================] - 0s 3ms/step - loss: 1592.9075\n",
            "Epoch 2/50\n",
            "23/23 [==============================] - 0s 2ms/step - loss: 1574.8936\n",
            "Epoch 3/50\n",
            "23/23 [==============================] - 0s 1ms/step - loss: 1550.5677\n",
            "Epoch 4/50\n",
            "23/23 [==============================] - 0s 2ms/step - loss: 1512.7104\n",
            "Epoch 5/50\n",
            "23/23 [==============================] - 0s 2ms/step - loss: 1453.8396\n",
            "Epoch 6/50\n",
            "23/23 [==============================] - 0s 2ms/step - loss: 1365.7148\n",
            "Epoch 7/50\n",
            "23/23 [==============================] - 0s 2ms/step - loss: 1235.3964\n",
            "Epoch 8/50\n",
            "23/23 [==============================] - 0s 2ms/step - loss: 1048.9978\n",
            "Epoch 9/50\n",
            "23/23 [==============================] - 0s 2ms/step - loss: 809.1852\n",
            "Epoch 10/50\n",
            "23/23 [==============================] - 0s 2ms/step - loss: 557.1876\n",
            "Epoch 11/50\n",
            "23/23 [==============================] - 0s 2ms/step - loss: 358.1915\n",
            "Epoch 12/50\n",
            "23/23 [==============================] - 0s 2ms/step - loss: 254.0783\n",
            "Epoch 13/50\n",
            "23/23 [==============================] - 0s 3ms/step - loss: 224.4332\n",
            "Epoch 14/50\n",
            "23/23 [==============================] - 0s 2ms/step - loss: 213.9580\n",
            "Epoch 15/50\n",
            "23/23 [==============================] - 0s 2ms/step - loss: 205.1588\n",
            "Epoch 16/50\n",
            "23/23 [==============================] - 0s 2ms/step - loss: 198.7697\n",
            "Epoch 17/50\n",
            "23/23 [==============================] - 0s 2ms/step - loss: 193.5944\n",
            "Epoch 18/50\n",
            "23/23 [==============================] - 0s 2ms/step - loss: 189.3952\n",
            "Epoch 19/50\n",
            "23/23 [==============================] - 0s 2ms/step - loss: 185.1367\n",
            "Epoch 20/50\n",
            "23/23 [==============================] - 0s 2ms/step - loss: 181.9743\n",
            "Epoch 21/50\n",
            "23/23 [==============================] - 0s 2ms/step - loss: 178.4743\n",
            "Epoch 22/50\n",
            "23/23 [==============================] - 0s 2ms/step - loss: 175.1342\n",
            "Epoch 23/50\n",
            "23/23 [==============================] - 0s 2ms/step - loss: 172.2963\n",
            "Epoch 24/50\n",
            "23/23 [==============================] - 0s 2ms/step - loss: 169.3795\n",
            "Epoch 25/50\n",
            "23/23 [==============================] - 0s 2ms/step - loss: 167.0045\n",
            "Epoch 26/50\n",
            "23/23 [==============================] - 0s 2ms/step - loss: 165.0540\n",
            "Epoch 27/50\n",
            "23/23 [==============================] - 0s 2ms/step - loss: 162.0340\n",
            "Epoch 28/50\n",
            "23/23 [==============================] - 0s 2ms/step - loss: 159.8749\n",
            "Epoch 29/50\n",
            "23/23 [==============================] - 0s 2ms/step - loss: 158.2144\n",
            "Epoch 30/50\n",
            "23/23 [==============================] - 0s 2ms/step - loss: 156.1977\n",
            "Epoch 31/50\n",
            "23/23 [==============================] - 0s 2ms/step - loss: 154.1652\n",
            "Epoch 32/50\n",
            "23/23 [==============================] - 0s 2ms/step - loss: 152.3588\n",
            "Epoch 33/50\n",
            "23/23 [==============================] - 0s 2ms/step - loss: 150.8988\n",
            "Epoch 34/50\n",
            "23/23 [==============================] - 0s 2ms/step - loss: 149.2216\n",
            "Epoch 35/50\n",
            "23/23 [==============================] - 0s 2ms/step - loss: 147.7819\n",
            "Epoch 36/50\n",
            "23/23 [==============================] - 0s 2ms/step - loss: 145.8794\n",
            "Epoch 37/50\n",
            "23/23 [==============================] - 0s 2ms/step - loss: 144.3024\n",
            "Epoch 38/50\n",
            "23/23 [==============================] - 0s 2ms/step - loss: 143.3795\n",
            "Epoch 39/50\n",
            "23/23 [==============================] - 0s 2ms/step - loss: 141.6251\n",
            "Epoch 40/50\n",
            "23/23 [==============================] - 0s 2ms/step - loss: 140.5778\n",
            "Epoch 41/50\n",
            "23/23 [==============================] - 0s 2ms/step - loss: 138.8334\n",
            "Epoch 42/50\n",
            "23/23 [==============================] - 0s 2ms/step - loss: 137.4264\n",
            "Epoch 43/50\n",
            "23/23 [==============================] - 0s 2ms/step - loss: 135.8827\n",
            "Epoch 44/50\n",
            "23/23 [==============================] - 0s 2ms/step - loss: 134.6519\n",
            "Epoch 45/50\n",
            "23/23 [==============================] - 0s 2ms/step - loss: 133.6176\n",
            "Epoch 46/50\n",
            "23/23 [==============================] - 0s 2ms/step - loss: 132.2507\n",
            "Epoch 47/50\n",
            "23/23 [==============================] - 0s 2ms/step - loss: 130.9687\n",
            "Epoch 48/50\n",
            "23/23 [==============================] - 0s 2ms/step - loss: 129.7562\n",
            "Epoch 49/50\n",
            "23/23 [==============================] - 0s 2ms/step - loss: 128.6121\n",
            "Epoch 50/50\n",
            "23/23 [==============================] - 0s 2ms/step - loss: 127.4158\n"
          ]
        },
        {
          "output_type": "execute_result",
          "data": {
            "text/plain": [
              "<keras.callbacks.History at 0x7fca540bbf40>"
            ]
          },
          "metadata": {},
          "execution_count": 29
        }
      ]
    },
    {
      "cell_type": "code",
      "source": [
        "loss_val = model.evaluate(X_test, y_test)\n",
        "y_pred = model.predict(X_test)\n",
        "loss_val"
      ],
      "metadata": {
        "colab": {
          "base_uri": "https://localhost:8080/"
        },
        "id": "8_rADs3L42Nq",
        "outputId": "a0d79b7a-f4ba-4f03-ef7a-0d47113f5ee0"
      },
      "execution_count": 30,
      "outputs": [
        {
          "output_type": "stream",
          "name": "stdout",
          "text": [
            "10/10 [==============================] - 0s 1ms/step - loss: 122.9835\n",
            "10/10 [==============================] - 0s 2ms/step\n"
          ]
        },
        {
          "output_type": "execute_result",
          "data": {
            "text/plain": [
              "122.98348999023438"
            ]
          },
          "metadata": {},
          "execution_count": 30
        }
      ]
    },
    {
      "cell_type": "code",
      "source": [
        "from sklearn.metrics import mean_squared_error"
      ],
      "metadata": {
        "id": "VdrCQbPW44v4"
      },
      "execution_count": 31,
      "outputs": []
    },
    {
      "cell_type": "code",
      "source": [
        "mean_square_error = mean_squared_error(y_test, y_pred)\n",
        "mean = np.mean(mean_square_error)\n",
        "standard_deviation = np.std(mean_square_error)\n",
        "print(mean, standard_deviation)"
      ],
      "metadata": {
        "colab": {
          "base_uri": "https://localhost:8080/"
        },
        "id": "utzkEXHd4-Cc",
        "outputId": "df70ffc0-8602-415f-ba93-46cf8695aa71"
      },
      "execution_count": 32,
      "outputs": [
        {
          "output_type": "stream",
          "name": "stdout",
          "text": [
            "122.98349677441256 0.0\n"
          ]
        }
      ]
    },
    {
      "cell_type": "code",
      "source": [],
      "metadata": {
        "id": "mPSlbSQe5EQ4"
      },
      "execution_count": 32,
      "outputs": []
    }
  ]
}